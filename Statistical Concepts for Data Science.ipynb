{
 "cells": [
  {
   "cell_type": "code",
   "execution_count": 14,
   "id": "14fe2be1",
   "metadata": {},
   "outputs": [],
   "source": [
    "import pandas as pd\n",
    "import numpy as np\n",
    "import seaborn as sns\n",
    "import matplotlib.pyplot as plt\n"
   ]
  },
  {
   "cell_type": "markdown",
   "id": "c5affc72",
   "metadata": {},
   "source": [
    "# 1. Population and Sample"
   ]
  },
  {
   "cell_type": "markdown",
   "id": "10a9283e",
   "metadata": {},
   "source": [
    "A population is the entire group that you want to draw conclusions about.\n",
    "\n",
    "A sample is the specific group that you will collect data from. The size of the sample is always less than the total size of the population.\n",
    "\n",
    "In research, a population doesn’t always refer to people. It can mean a group containing elements of anything you want to study, such as objects, events, organizations, countries, species, organisms, etc."
   ]
  },
  {
   "cell_type": "markdown",
   "id": "9aab3b4b",
   "metadata": {},
   "source": [
    "sample() is an inbuilt function of random module in Python that returns a particular length list of items chosen from the sequence i.e. list, tuple, string or set. Used for random sampling without replacement."
   ]
  },
  {
   "cell_type": "markdown",
   "id": "d3b31854",
   "metadata": {},
   "source": [
    "Reasons for sampling\n",
    "Necessity: Sometimes it’s simply not possible to study the whole population due to its size or inaccessibility.\n",
    "Practicality: It’s easier and more efficient to collect data from a sample.\n",
    "Cost-effectiveness: There are fewer participant, laboratory, equipment, and researcher costs involved.\n",
    "Manageability: Storing and running statistical analyses on smaller datasets is easier and reliable."
   ]
  },
  {
   "cell_type": "markdown",
   "id": "7cd4a443",
   "metadata": {},
   "source": [
    "Syntax : random.sample(sequence, k)\n",
    "\n",
    "Parameters:\n",
    "sequence: Can be a list, tuple, string, or set.\n",
    "k: An Integer value, it specify the length of a sample.\n",
    "\n",
    "Returns: k length new list of elements chosen from the sequence."
   ]
  },
  {
   "cell_type": "markdown",
   "id": "f3193c43",
   "metadata": {},
   "source": [
    "Simple implementation of sample() function."
   ]
  },
  {
   "cell_type": "code",
   "execution_count": 16,
   "id": "27e6cb6d",
   "metadata": {},
   "outputs": [
    {
     "name": "stdout",
     "output_type": "stream",
     "text": [
      "[3, 2, 4]\n"
     ]
    }
   ],
   "source": [
    "from random import sample\n",
    "  \n",
    "# Prints list of random items of given length\n",
    "list1 = [1, 2, 3, 4, 5] \n",
    "  \n",
    "print(sample(list1,3))"
   ]
  },
  {
   "cell_type": "markdown",
   "id": "f420c41a",
   "metadata": {},
   "source": [
    "# 2. Normal Distribution"
   ]
  },
  {
   "cell_type": "markdown",
   "id": "1fce5f4c",
   "metadata": {},
   "source": [
    "Normal distribution, also known as the Gaussian distribution, is a probability distribution that is symmetric about the mean, showing that data near the mean are more frequent in occurrence than data far from the mean. In graph form, normal distribution will appear as a bell curve.\n",
    "For example, the bell curve is seen in tests like the SAT and GRE. The bulk of students will score the average (C), while smaller numbers of students will score a B or D."
   ]
  },
  {
   "cell_type": "code",
   "execution_count": 19,
   "id": "27a82844",
   "metadata": {},
   "outputs": [
    {
     "name": "stderr",
     "output_type": "stream",
     "text": [
      "c:\\users\\hp\\appdata\\local\\programs\\python\\python39\\lib\\site-packages\\seaborn\\distributions.py:2557: FutureWarning: `distplot` is a deprecated function and will be removed in a future version. Please adapt your code to use either `displot` (a figure-level function with similar flexibility) or `histplot` (an axes-level function for histograms).\n",
      "  warnings.warn(msg, FutureWarning)\n"
     ]
    },
    {
     "data": {
      "image/png": "[encoded data removed]",
      "text/plain": [
       "<Figure size 432x288 with 1 Axes>"
      ]
     },
     "metadata": {
      "needs_background": "light"
     },
     "output_type": "display_data"
    }
   ],
   "source": [
    "from scipy.stats import norm\n",
    "# Create the sample using norm.rvs()\n",
    "sample = norm.rvs(loc=0, scale=1, size=10000, random_state=13)\n",
    "# Plot the sample\n",
    "sns.distplot(sample)\n",
    "plt.show()\n"
   ]
  },
  {
   "cell_type": "markdown",
   "id": "4126c065",
   "metadata": {},
   "source": [
    "# 3. Measures of central tendency"
   ]
  },
  {
   "cell_type": "markdown",
   "id": "1ed51fe2",
   "metadata": {},
   "source": [
    "Measures of central tendency help you find the middle, or the average, of a data set. The 3 most common measures of central tendency are the mode, median, and mean.\n",
    "\n",
    "Mode: the most frequent value.\n",
    "Median: the middle number in an ordered data set.\n",
    "Mean: the sum of all values divided by the total number of values."
   ]
  },
  {
   "cell_type": "code",
   "execution_count": 9,
   "id": "31ac5048",
   "metadata": {},
   "outputs": [],
   "source": [
    "df= pd.read_csv('iris.csv')"
   ]
  },
  {
   "cell_type": "code",
   "execution_count": 10,
   "id": "287d3cf5",
   "metadata": {},
   "outputs": [
    {
     "name": "stdout",
     "output_type": "stream",
     "text": [
      "   sepal.length  sepal.width  petal.length  petal.width variety\n",
      "0           5.1          3.5           1.4          0.2  Setosa\n",
      "1           4.9          3.0           1.4          0.2  Setosa\n",
      "2           4.7          3.2           1.3          0.2  Setosa\n",
      "3           4.6          3.1           1.5          0.2  Setosa\n",
      "4           5.0          3.6           1.4          0.2  Setosa\n"
     ]
    }
   ],
   "source": [
    "print(df.head())"
   ]
  },
  {
   "cell_type": "markdown",
   "id": "32c86ab8",
   "metadata": {},
   "source": [
    "The mean is the same as the average value of a data set and is found using a calculation. Add up all of the numbers and divide by the number of numbers in the data set."
   ]
  },
  {
   "cell_type": "code",
   "execution_count": 11,
   "id": "4b8cb083",
   "metadata": {},
   "outputs": [
    {
     "name": "stdout",
     "output_type": "stream",
     "text": [
      "            sepal.length  sepal.width  petal.length  petal.width\n",
      "variety                                                         \n",
      "Setosa             5.006        3.428         1.462        0.246\n",
      "Versicolor         5.936        2.770         4.260        1.326\n",
      "Virginica          6.588        2.974         5.552        2.026\n"
     ]
    }
   ],
   "source": [
    "print(df.groupby('variety').agg(np.mean))"
   ]
  },
  {
   "cell_type": "markdown",
   "id": "2aaff583",
   "metadata": {},
   "source": [
    "The median is the central number of a data set. Arrange data points from smallest to largest and locate the central number. This is the median. If there are 2 numbers in the middle, the median is the average of those 2 numbers."
   ]
  },
  {
   "cell_type": "code",
   "execution_count": 12,
   "id": "bff580a1",
   "metadata": {},
   "outputs": [
    {
     "name": "stdout",
     "output_type": "stream",
     "text": [
      "            sepal.length  sepal.width  petal.length  petal.width\n",
      "variety                                                         \n",
      "Setosa               5.0          3.4          1.50          0.2\n",
      "Versicolor           5.9          2.8          4.35          1.3\n",
      "Virginica            6.5          3.0          5.55          2.0\n"
     ]
    }
   ],
   "source": [
    "print(df.groupby('variety').agg(np.median))"
   ]
  },
  {
   "cell_type": "markdown",
   "id": "3ea48a5e",
   "metadata": {},
   "source": [
    "The mode is the number in a data set that occurs most frequently. Count how many times each number occurs in the data set. The mode is the number with the highest tally. It's ok if there is more than one mode. And if all numbers occur the same number of times there is no mode."
   ]
  },
  {
   "cell_type": "code",
   "execution_count": 18,
   "id": "7cf212ef",
   "metadata": {},
   "outputs": [
    {
     "data": {
      "text/plain": [
       "5.1"
      ]
     },
     "execution_count": 18,
     "metadata": {},
     "output_type": "execute_result"
    }
   ],
   "source": [
    "import statistics\n",
    "df_setosa=df[df['variety']=='Setosa']\n",
    "statistics.mode(df_setosa['sepal.length'])"
   ]
  },
  {
   "cell_type": "markdown",
   "id": "e3085df9",
   "metadata": {},
   "source": [
    "# 4. Measures of dispersion"
   ]
  },
  {
   "cell_type": "markdown",
   "id": "542399f1",
   "metadata": {},
   "source": [
    "The measures of central tendency are not adequate to describe data. Two data sets can have the same mean but they can be entirely different. Thus to describe data, one needs to know the extent of variability. This is given by the measures of dispersion. Range, interquartile range, and standard deviation are the three commonly used measures of dispersion."
   ]
  },
  {
   "cell_type": "markdown",
   "id": "c4b6f162",
   "metadata": {},
   "source": [
    "The range is the difference between the largest and the smallest observation in the data. The prime advantage of this measure of dispersion is that it is easy to calculate. On the other hand, it has lot of disadvantages. It is very sensitive to outliers and does not use all the observations in a data set.[1] It is more informative to provide the minimum and the maximum values rather than providing the range."
   ]
  },
  {
   "cell_type": "markdown",
   "id": "a04db13b",
   "metadata": {},
   "source": [
    "Interquartile range is defined as the difference between the 25th and 75th percentile (also called the first and third quartile). Hence the interquartile range describes the middle 50% of observations. If the interquartile range is large it means that the middle 50% of observations are spaced wide apart. "
   ]
  },
  {
   "cell_type": "code",
   "execution_count": 19,
   "id": "61b2a3dd",
   "metadata": {},
   "outputs": [
    {
     "data": {
      "text/plain": [
       "0.40000000000000036"
      ]
     },
     "execution_count": 19,
     "metadata": {},
     "output_type": "execute_result"
    }
   ],
   "source": [
    "np.quantile(df_setosa['sepal.length'],0.75)-np.quantile(df_setosa['sepal.length'],0.25)"
   ]
  },
  {
   "cell_type": "code",
   "execution_count": 20,
   "id": "2b10d68c",
   "metadata": {},
   "outputs": [
    {
     "data": {
      "text/plain": [
       "0.40000000000000036"
      ]
     },
     "execution_count": 20,
     "metadata": {},
     "output_type": "execute_result"
    }
   ],
   "source": [
    "from scipy.stats import iqr\n",
    "iqr(df_setosa['sepal.length'])\n"
   ]
  },
  {
   "cell_type": "markdown",
   "id": "a3e467c2",
   "metadata": {},
   "source": [
    "Standard deviation (SD) is the most commonly used measure of dispersion. It is a measure of spread of data about the mean. SD is the square root of sum of squared deviation from the mean divided by the number of observations."
   ]
  },
  {
   "cell_type": "code",
   "execution_count": 21,
   "id": "edbeab0a",
   "metadata": {},
   "outputs": [
    {
     "data": {
      "text/plain": [
       "0.3489469873777391"
      ]
     },
     "execution_count": 21,
     "metadata": {},
     "output_type": "execute_result"
    }
   ],
   "source": [
    "np.std(df_setosa['sepal.length'])"
   ]
  },
  {
   "cell_type": "code",
   "execution_count": 22,
   "id": "52ba1746",
   "metadata": {},
   "outputs": [
    {
     "data": {
      "text/plain": [
       "0.3489469873777391"
      ]
     },
     "execution_count": 22,
     "metadata": {},
     "output_type": "execute_result"
    }
   ],
   "source": [
    "np.sqrt(np.var(df_setosa['sepal.length']))"
   ]
  },
  {
   "cell_type": "code",
   "execution_count": null,
   "id": "1da672ea",
   "metadata": {},
   "outputs": [],
   "source": []
  }
 ],
 "metadata": {
  "kernelspec": {
   "display_name": "Python 3",
   "language": "python",
   "name": "python3"
  },
  "language_info": {
   "codemirror_mode": {
    "name": "ipython",
    "version": 3
   },
   "file_extension": ".py",
   "mimetype": "text/x-python",
   "name": "python",
   "nbconvert_exporter": "python",
   "pygments_lexer": "ipython3",
   "version": "3.9.5"
  }
 },
 "nbformat": 4,
 "nbformat_minor": 5
}
